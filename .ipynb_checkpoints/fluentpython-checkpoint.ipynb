{
 "cells": [
  {
   "cell_type": "markdown",
   "metadata": {},
   "source": [
    "# Python 打磨大宝剑"
   ]
  },
  {
   "cell_type": "markdown",
   "metadata": {},
   "source": [
    "## 1. 数据模型"
   ]
  },
  {
   "cell_type": "markdown",
   "metadata": {},
   "source": [
    "> 这只是一篇学习笔记，关于《流畅的python》，在开发过程中，我们有时候可能会想知道，“这段代码，我为什么会这么写? 好处是什么? 最佳写法是什么?” 阅读此书的目的也是如此，希望在今后的工作与生活中，能更灵活的运用python"
   ]
  },
  {
   "cell_type": "markdown",
   "metadata": {},
   "source": [
    "### 1.1 一摞Python风格的纸牌🃏 难度：（简单）"
   ]
  },
  {
   "cell_type": "markdown",
   "metadata": {},
   "source": [
    "+ **让我们感受一下魔法方法，\\_\\_getitem\\_\\_ 与 \\_\\_len\\_\\_**"
   ]
  },
  {
   "cell_type": "code",
   "execution_count": 33,
   "metadata": {},
   "outputs": [],
   "source": [
    "import collections\n",
    "\n",
    "Card = collections.namedtuple(\"Card\", ['rank', 'suit']) # 创建一个只有简单属性 没有方法的类\n",
    "\n",
    "class FrenchDeck:\n",
    "    ranks = [str(n) for n in range(2, 11)] + list('JQKA') # ['2', '3', '4', ... 'J', 'Q', 'K', 'A']\n",
    "    suits = '红桃儿 黑桃儿 梅花儿 方块儿'.split() # ['红桃', '黑桃', '梅花', '方块']\n",
    "\n",
    "    def __init__(self):\n",
    "        self._cards = [Card(rank, suit) for suit in self.suits for rank in self.ranks]\n",
    "\n",
    "    def __len__(self):\n",
    "        return len(self._cards)\n",
    "\n",
    "    def __getitem__(self, Position):\n",
    "        return self._cards[Position]\n",
    "    "
   ]
  },
  {
   "cell_type": "markdown",
   "metadata": {},
   "source": [
    "+ **我们用 namedtuple 来表示一张纸牌🃏，这个类可以得到一个纸牌对象,如：**"
   ]
  },
  {
   "cell_type": "code",
   "execution_count": 34,
   "metadata": {},
   "outputs": [
    {
     "data": {
      "text/plain": [
       "Card(rank='1', suit='红桃儿')"
      ]
     },
     "execution_count": 34,
     "metadata": {},
     "output_type": "execute_result"
    }
   ],
   "source": [
    "beer_card = Card('1', '红桃儿')\n",
    "beer_card"
   ]
  },
  {
   "cell_type": "markdown",
   "metadata": {},
   "source": [
    "+ **我们主要关注 FrenchDeck这个类，短小精悍，可以得到一副扑克牌。它和任何python标准几何类型一样，可以用len()来查看有多少个对象**"
   ]
  },
  {
   "cell_type": "code",
   "execution_count": 35,
   "metadata": {},
   "outputs": [
    {
     "data": {
      "text/plain": [
       "52"
      ]
     },
     "execution_count": 35,
     "metadata": {},
     "output_type": "execute_result"
    }
   ],
   "source": [
    "deck = FrenchDeck()\n",
    "len(deck)\n"
   ]
  },
  {
   "cell_type": "markdown",
   "metadata": {},
   "source": [
    "+ **从一张牌中抽取任意一张牌，如第一张与最后一张，很容易，他们是由\\_\\_getitem\\_\\_方法提供的.**\n",
    "+ **因为\\_\\_getitem\\_\\_ 方法把 [ ] 操作交给了self._cards列表，所以deck类自动支持切片(slicing)操作，**"
   ]
  },
  {
   "cell_type": "code",
   "execution_count": 20,
   "metadata": {},
   "outputs": [
    {
     "data": {
      "text/plain": [
       "Card(rank='2', suit='红桃儿')"
      ]
     },
     "execution_count": 20,
     "metadata": {},
     "output_type": "execute_result"
    }
   ],
   "source": [
    "deck[0]"
   ]
  },
  {
   "cell_type": "code",
   "execution_count": 41,
   "metadata": {},
   "outputs": [
    {
     "data": {
      "text/plain": [
       "[Card(rank='2', suit='红桃儿'),\n",
       " Card(rank='3', suit='红桃儿'),\n",
       " Card(rank='4', suit='红桃儿')]"
      ]
     },
     "execution_count": 41,
     "metadata": {},
     "output_type": "execute_result"
    }
   ],
   "source": [
    "deck[:3]"
   ]
  },
  {
   "cell_type": "markdown",
   "metadata": {},
   "source": [
    "+ **如果要从纸牌中随机抽取一张，我们需要再另写一个方法吗？没有必要。python有random。**"
   ]
  },
  {
   "cell_type": "code",
   "execution_count": 37,
   "metadata": {},
   "outputs": [
    {
     "data": {
      "text/plain": [
       "Card(rank='2', suit='黑桃儿')"
      ]
     },
     "execution_count": 37,
     "metadata": {},
     "output_type": "execute_result"
    }
   ],
   "source": [
    "from random import choice\n",
    "\n",
    "choice(deck) # 如果不定义 __getitem__ 将会报错"
   ]
  },
  {
   "cell_type": "code",
   "execution_count": 38,
   "metadata": {},
   "outputs": [
    {
     "data": {
      "text/plain": [
       "Card(rank='2', suit='红桃儿')"
      ]
     },
     "execution_count": 38,
     "metadata": {},
     "output_type": "execute_result"
    }
   ],
   "source": [
    "choice(deck)"
   ]
  },
  {
   "cell_type": "markdown",
   "metadata": {},
   "source": [
    "+ **\\_\\_getitem\\_\\_方法 让我们更加方便的使用python的标准库，而不用重新发明轮子**\n",
    "+ **另外，如果仅仅实现了 \\_\\_getitem\\_\\_方法 这一摞纸牌就变成可迭代的了**"
   ]
  },
  {
   "cell_type": "code",
   "execution_count": 45,
   "metadata": {},
   "outputs": [
    {
     "name": "stdout",
     "output_type": "stream",
     "text": [
      "Card(rank='2', suit='红桃儿')\n",
      "Card(rank='3', suit='红桃儿')\n",
      "Card(rank='4', suit='红桃儿')\n",
      "Card(rank='5', suit='红桃儿')\n",
      "Card(rank='6', suit='红桃儿')\n",
      "Card(rank='7', suit='红桃儿')\n",
      "Card(rank='8', suit='红桃儿')\n",
      "Card(rank='9', suit='红桃儿')\n",
      "Card(rank='10', suit='红桃儿')\n",
      "Card(rank='J', suit='红桃儿')\n",
      "Card(rank='Q', suit='红桃儿')\n",
      "Card(rank='K', suit='红桃儿')\n",
      "Card(rank='A', suit='红桃儿')\n"
     ]
    }
   ],
   "source": [
    "for card in deck[:13]: # 正向迭代\n",
    "    print(card)"
   ]
  },
  {
   "cell_type": "code",
   "execution_count": 46,
   "metadata": {},
   "outputs": [
    {
     "name": "stdout",
     "output_type": "stream",
     "text": [
      "Card(rank='A', suit='红桃儿')\n",
      "Card(rank='K', suit='红桃儿')\n",
      "Card(rank='Q', suit='红桃儿')\n",
      "Card(rank='J', suit='红桃儿')\n",
      "Card(rank='10', suit='红桃儿')\n",
      "Card(rank='9', suit='红桃儿')\n",
      "Card(rank='8', suit='红桃儿')\n",
      "Card(rank='7', suit='红桃儿')\n",
      "Card(rank='6', suit='红桃儿')\n",
      "Card(rank='5', suit='红桃儿')\n",
      "Card(rank='4', suit='红桃儿')\n",
      "Card(rank='3', suit='红桃儿')\n",
      "Card(rank='2', suit='红桃儿')\n"
     ]
    }
   ],
   "source": [
    "for card in reversed(deck[:13]): # 反向迭代\n",
    "    print(card)"
   ]
  },
  {
   "cell_type": "markdown",
   "metadata": {},
   "source": [
    "+ **迭代通常是隐式的，譬如一个几何类型没有实现 \\_\\_contains\\_\\_方法，那么 in 运算符就会按顺序做一次迭代搜索。**"
   ]
  },
  {
   "cell_type": "code",
   "execution_count": 47,
   "metadata": {},
   "outputs": [
    {
     "data": {
      "text/plain": [
       "True"
      ]
     },
     "execution_count": 47,
     "metadata": {},
     "output_type": "execute_result"
    }
   ],
   "source": [
    "Card(\"Q\", \"红桃儿\") in deck"
   ]
  },
  {
   "cell_type": "code",
   "execution_count": 50,
   "metadata": {},
   "outputs": [
    {
     "data": {
      "text/plain": [
       "False"
      ]
     },
     "execution_count": 50,
     "metadata": {},
     "output_type": "execute_result"
    }
   ],
   "source": [
    "Card(\"Q\", \"特朗普熔断\") in deck"
   ]
  },
  {
   "cell_type": "markdown",
   "metadata": {},
   "source": [
    "+ **那么排序呢？按照常规，用电数来判定扑克牌大小，假设 2最小，A最大，同时加上对花色判定。黑桃最大，红桃次之，方块再次，梅花最小, 下面我们按这个规则给扑克牌排序**"
   ]
  },
  {
   "cell_type": "code",
   "execution_count": 74,
   "metadata": {},
   "outputs": [
    {
     "data": {
      "text/plain": [
       "[Card(rank='10', suit='方块儿'),\n",
       " Card(rank='10', suit='梅花儿'),\n",
       " Card(rank='10', suit='红桃儿'),\n",
       " Card(rank='10', suit='黑桃儿'),\n",
       " Card(rank='2', suit='方块儿'),\n",
       " Card(rank='2', suit='梅花儿'),\n",
       " Card(rank='2', suit='红桃儿'),\n",
       " Card(rank='2', suit='黑桃儿'),\n",
       " Card(rank='3', suit='方块儿'),\n",
       " Card(rank='3', suit='梅花儿'),\n",
       " Card(rank='3', suit='红桃儿'),\n",
       " Card(rank='3', suit='黑桃儿'),\n",
       " Card(rank='4', suit='方块儿'),\n",
       " Card(rank='4', suit='梅花儿'),\n",
       " Card(rank='4', suit='红桃儿'),\n",
       " Card(rank='4', suit='黑桃儿'),\n",
       " Card(rank='5', suit='方块儿'),\n",
       " Card(rank='5', suit='梅花儿'),\n",
       " Card(rank='5', suit='红桃儿'),\n",
       " Card(rank='5', suit='黑桃儿'),\n",
       " Card(rank='6', suit='方块儿'),\n",
       " Card(rank='6', suit='梅花儿'),\n",
       " Card(rank='6', suit='红桃儿'),\n",
       " Card(rank='6', suit='黑桃儿'),\n",
       " Card(rank='7', suit='方块儿'),\n",
       " Card(rank='7', suit='梅花儿'),\n",
       " Card(rank='7', suit='红桃儿'),\n",
       " Card(rank='7', suit='黑桃儿'),\n",
       " Card(rank='8', suit='方块儿'),\n",
       " Card(rank='8', suit='梅花儿'),\n",
       " Card(rank='8', suit='红桃儿'),\n",
       " Card(rank='8', suit='黑桃儿'),\n",
       " Card(rank='9', suit='方块儿'),\n",
       " Card(rank='9', suit='梅花儿'),\n",
       " Card(rank='9', suit='红桃儿'),\n",
       " Card(rank='9', suit='黑桃儿'),\n",
       " Card(rank='A', suit='方块儿'),\n",
       " Card(rank='A', suit='梅花儿'),\n",
       " Card(rank='A', suit='红桃儿'),\n",
       " Card(rank='A', suit='黑桃儿'),\n",
       " Card(rank='J', suit='方块儿'),\n",
       " Card(rank='J', suit='梅花儿'),\n",
       " Card(rank='J', suit='红桃儿'),\n",
       " Card(rank='J', suit='黑桃儿'),\n",
       " Card(rank='K', suit='方块儿'),\n",
       " Card(rank='K', suit='梅花儿'),\n",
       " Card(rank='K', suit='红桃儿'),\n",
       " Card(rank='K', suit='黑桃儿'),\n",
       " Card(rank='Q', suit='方块儿'),\n",
       " Card(rank='Q', suit='梅花儿'),\n",
       " Card(rank='Q', suit='红桃儿'),\n",
       " Card(rank='Q', suit='黑桃儿')]"
      ]
     },
     "execution_count": 74,
     "metadata": {},
     "output_type": "execute_result"
    }
   ],
   "source": [
    "sorted(deck)"
   ]
  },
  {
   "cell_type": "code",
   "execution_count": 58,
   "metadata": {},
   "outputs": [
    {
     "name": "stdout",
     "output_type": "stream",
     "text": [
      "Card(rank='2', suit='梅花儿')\n",
      "Card(rank='2', suit='方块儿')\n",
      "Card(rank='2', suit='红桃儿')\n",
      "Card(rank='2', suit='黑桃儿')\n",
      "Card(rank='3', suit='梅花儿')\n",
      "Card(rank='3', suit='方块儿')\n",
      "Card(rank='3', suit='红桃儿')\n",
      "Card(rank='3', suit='黑桃儿')\n",
      "Card(rank='4', suit='梅花儿')\n",
      "Card(rank='4', suit='方块儿')\n",
      "Card(rank='4', suit='红桃儿')\n",
      "Card(rank='4', suit='黑桃儿')\n",
      "Card(rank='5', suit='梅花儿')\n",
      "Card(rank='5', suit='方块儿')\n",
      "Card(rank='5', suit='红桃儿')\n",
      "Card(rank='5', suit='黑桃儿')\n",
      "Card(rank='6', suit='梅花儿')\n",
      "Card(rank='6', suit='方块儿')\n",
      "Card(rank='6', suit='红桃儿')\n",
      "Card(rank='6', suit='黑桃儿')\n",
      "Card(rank='7', suit='梅花儿')\n",
      "Card(rank='7', suit='方块儿')\n",
      "Card(rank='7', suit='红桃儿')\n",
      "Card(rank='7', suit='黑桃儿')\n",
      "Card(rank='8', suit='梅花儿')\n",
      "Card(rank='8', suit='方块儿')\n",
      "Card(rank='8', suit='红桃儿')\n",
      "Card(rank='8', suit='黑桃儿')\n",
      "Card(rank='9', suit='梅花儿')\n",
      "Card(rank='9', suit='方块儿')\n",
      "Card(rank='9', suit='红桃儿')\n",
      "Card(rank='9', suit='黑桃儿')\n",
      "Card(rank='10', suit='梅花儿')\n",
      "Card(rank='10', suit='方块儿')\n",
      "Card(rank='10', suit='红桃儿')\n",
      "Card(rank='10', suit='黑桃儿')\n",
      "Card(rank='J', suit='梅花儿')\n",
      "Card(rank='J', suit='方块儿')\n",
      "Card(rank='J', suit='红桃儿')\n",
      "Card(rank='J', suit='黑桃儿')\n",
      "Card(rank='Q', suit='梅花儿')\n",
      "Card(rank='Q', suit='方块儿')\n",
      "Card(rank='Q', suit='红桃儿')\n",
      "Card(rank='Q', suit='黑桃儿')\n",
      "Card(rank='K', suit='梅花儿')\n",
      "Card(rank='K', suit='方块儿')\n",
      "Card(rank='K', suit='红桃儿')\n",
      "Card(rank='K', suit='黑桃儿')\n",
      "Card(rank='A', suit='梅花儿')\n",
      "Card(rank='A', suit='方块儿')\n",
      "Card(rank='A', suit='红桃儿')\n",
      "Card(rank='A', suit='黑桃儿')\n"
     ]
    }
   ],
   "source": [
    "suit_values = dict(黑桃儿=3, 红桃儿=2, 方块儿=1, 梅花儿=0)\n",
    "\n",
    "def spades_high(card):\n",
    "    rank_value = FrenchDeck.ranks.index(card.rank)\n",
    "    return rank_value * len(suit_values) + suit_values[card.suit]\n",
    "\n",
    "for card in sorted(deck, key=spades_high):\n",
    "    print(card)"
   ]
  },
  {
   "cell_type": "code",
   "execution_count": null,
   "metadata": {},
   "outputs": [],
   "source": []
  }
 ],
 "metadata": {
  "kernelspec": {
   "display_name": "Python 3",
   "language": "python",
   "name": "python3"
  },
  "language_info": {
   "codemirror_mode": {
    "name": "ipython",
    "version": 3
   },
   "file_extension": ".py",
   "mimetype": "text/x-python",
   "name": "python",
   "nbconvert_exporter": "python",
   "pygments_lexer": "ipython3",
   "version": "3.6.8"
  }
 },
 "nbformat": 4,
 "nbformat_minor": 4
}
